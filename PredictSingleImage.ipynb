{
 "cells": [
  {
   "cell_type": "code",
   "execution_count": 2,
   "metadata": {},
   "outputs": [
    {
     "name": "stdout",
     "output_type": "stream",
     "text": [
      "(128, 128, 3)\n",
      "NoFire\n",
      "1\n",
      "Fire: 0.08864985429681838%, NoFire: 99.91135001182556%\n"
     ]
    }
   ],
   "source": [
    "import cv2 \n",
    "import tensorflow as tf\n",
    "import numpy as np\n",
    "CATEGORIES =[\"Fire\",\"NoFire\"]\n",
    "\n",
    "def prepare(filepath):\n",
    "    IMG_SIZE=128\n",
    "    IMG_SIZE1=128\n",
    "    img_array= cv2.imread(filepath, cv2.IMREAD_UNCHANGED)\n",
    "    img_array = img_array/125.0\n",
    "    new_array= cv2.resize(img_array,(IMG_SIZE,IMG_SIZE1))\n",
    "    print(new_array.shape)\n",
    "    return new_array.reshape(-1,IMG_SIZE,IMG_SIZE1,3)\n",
    "\n",
    "model=tf.keras.models.load_model(\"C:/Users/intern.htmhieu/Desktop/Untitled Folder/FireDetection.model\")\n",
    "prediction= model.predict([prepare('C:/Users/intern.htmhieu/Downloads/a.jpg')])\n",
    "pred_label=np.argmax(prediction)\n",
    "print(CATEGORIES[int(pred_label)])\n",
    "print(pred_label)\n",
    "print(f\"Fire: {prediction[0][0]*100}%, NoFire: {prediction[0][1]*100}%\")"
   ]
  },
  {
   "cell_type": "code",
   "execution_count": null,
   "metadata": {},
   "outputs": [],
   "source": []
  }
 ],
 "metadata": {
  "kernelspec": {
   "display_name": "Python 3",
   "language": "python",
   "name": "python3"
  },
  "language_info": {
   "codemirror_mode": {
    "name": "ipython",
    "version": 3
   },
   "file_extension": ".py",
   "mimetype": "text/x-python",
   "name": "python",
   "nbconvert_exporter": "python",
   "pygments_lexer": "ipython3",
   "version": "3.6.8"
  }
 },
 "nbformat": 4,
 "nbformat_minor": 4
}
